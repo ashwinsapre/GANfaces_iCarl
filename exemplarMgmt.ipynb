{
 "cells": [
  {
   "cell_type": "code",
   "execution_count": 2,
   "metadata": {},
   "outputs": [],
   "source": [
    "import numpy as np\n",
    "import tensorflow as tf\n",
    "import matplotlib.pyplot as plt\n",
    "import pandas as pd\n",
    "from tensorflow import keras\n",
    "import keras.layers as L\n",
    "from keras.applications"
   ]
  },
  {
   "cell_type": "code",
   "execution_count": null,
   "metadata": {},
   "outputs": [],
   "source": [
    "def create_exemplar_set(size, n, X):\n",
    "    #X has images all of class=y\n",
    "    for i in X:\n",
    "        #obtain feature vectors of all images in set\n",
    "    #stored in 'exemplars'\n",
    "    #choose first n which best represent the class\n",
    "    return None"
   ]
  },
  {
   "cell_type": "code",
   "execution_count": null,
   "metadata": {},
   "outputs": [],
   "source": [
    "def feature_extractor(X, input_dim, n_classes):\n",
    "    #use a CNN (or any other network) to extract a feature vector from an input image\n",
    "    '''model=keras.Sequential(\n",
    "    [\n",
    "        L.Conv2D(64, kernel_size=3, input_shape=(input_dim, input_dim,1)),\n",
    "        L.LeakyReLU(0.2),\n",
    "        L.Conv2D(32, kernel_size=3),\n",
    "        L.LeakyReLU(0.2),\n",
    "        L.Conv2D(16, kernel_size=3),\n",
    "        L.LeakyReLU(0.2),\n",
    "        L.Flatten(n_classes)\n",
    "    ]\n",
    "    )\n",
    "    '''\n",
    "    return None"
   ]
  }
 ],
 "metadata": {
  "kernelspec": {
   "display_name": "Python 3",
   "language": "python",
   "name": "python3"
  },
  "language_info": {
   "codemirror_mode": {
    "name": "ipython",
    "version": 3
   },
   "file_extension": ".py",
   "mimetype": "text/x-python",
   "name": "python",
   "nbconvert_exporter": "python",
   "pygments_lexer": "ipython3",
   "version": "3.7.0"
  }
 },
 "nbformat": 4,
 "nbformat_minor": 4
}

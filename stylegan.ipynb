{
  "nbformat": 4,
  "nbformat_minor": 0,
  "metadata": {
    "colab": {
      "name": "stylegan.ipynb",
      "provenance": [],
      "authorship_tag": "ABX9TyMCnjs22er9nXPy8qHr6nnL",
      "include_colab_link": true
    },
    "kernelspec": {
      "name": "python3",
      "display_name": "Python 3"
    },
    "accelerator": "GPU"
  },
  "cells": [
    {
      "cell_type": "markdown",
      "metadata": {
        "id": "view-in-github",
        "colab_type": "text"
      },
      "source": [
        "<a href=\"https://colab.research.google.com/github/ashwinsapre/GANfaces_iCarl/blob/main/stylegan.ipynb\" target=\"_parent\"><img src=\"https://colab.research.google.com/assets/colab-badge.svg\" alt=\"Open In Colab\"/></a>"
      ]
    },
    {
      "cell_type": "code",
      "metadata": {
        "colab": {
          "base_uri": "https://localhost:8080/"
        },
        "id": "bqG7lVmP_dUA",
        "outputId": "1e24fddb-4769-43af-dc8d-befc657348b2"
      },
      "source": [
        "%tensorflow_version 1.x\r\n",
        "import tensorflow as tf\r\n",
        "print(tf.__version__)"
      ],
      "execution_count": 4,
      "outputs": [
        {
          "output_type": "stream",
          "text": [
            "1.15.2\n"
          ],
          "name": "stdout"
        }
      ]
    },
    {
      "cell_type": "code",
      "metadata": {
        "colab": {
          "base_uri": "https://localhost:8080/"
        },
        "id": "gU3waDhKyz9L",
        "outputId": "e5e31c03-d80e-420c-c274-0293983b1285"
      },
      "source": [
        "from google.colab import drive\r\n",
        "drive.mount('/content/drive', force_remount=True)"
      ],
      "execution_count": 5,
      "outputs": [
        {
          "output_type": "stream",
          "text": [
            "Mounted at /content/drive\n"
          ],
          "name": "stdout"
        }
      ]
    },
    {
      "cell_type": "code",
      "metadata": {
        "colab": {
          "base_uri": "https://localhost:8080/"
        },
        "id": "yAA3yPTJ2dyh",
        "outputId": "6b8b145c-4bcb-471d-db22-66a0754453ce"
      },
      "source": [
        "!git clone https://github.com/NVlabs/stylegan.git"
      ],
      "execution_count": 6,
      "outputs": [
        {
          "output_type": "stream",
          "text": [
            "fatal: destination path 'stylegan' already exists and is not an empty directory.\n"
          ],
          "name": "stdout"
        }
      ]
    },
    {
      "cell_type": "code",
      "metadata": {
        "id": "iP3_XOlw2qGB"
      },
      "source": [
        "import sys\r\n",
        "sys.path.insert(0, \"/content/stylegan\")\r\n",
        "\r\n",
        "import dnnlib"
      ],
      "execution_count": 7,
      "outputs": []
    },
    {
      "cell_type": "code",
      "metadata": {
        "id": "AiOwJxivFUyv"
      },
      "source": [
        "def load_weights():\r\n",
        "    with open('drive/MyDrive/styleganffhq.pkl', 'rb') as pkl:\r\n",
        "        _G, _D, Gs = pickle.load(pkl)\r\n",
        "    return _G, _D, Gs\r\n",
        "_G, _D, Gs = load_weights()"
      ],
      "execution_count": 31,
      "outputs": []
    },
    {
      "cell_type": "code",
      "metadata": {
        "id": "qnozpXHM2wx8"
      },
      "source": [
        "import os\r\n",
        "import pickle\r\n",
        "import numpy as np\r\n",
        "import PIL.Image\r\n",
        "import dnnlib\r\n",
        "import dnnlib.tflib as tflib\r\n",
        "import config\r\n",
        "\r\n",
        "def generate_images(n=10):\r\n",
        "    # Initialize TensorFlow.\r\n",
        "    tflib.init_tf()\r\n",
        "    for i in range(n):\r\n",
        "        rnd = np.random.RandomState()\r\n",
        "        latents = rnd.randn(1, Gs.input_shape[1])\r\n",
        "\r\n",
        "        # Generate image.\r\n",
        "        fmt = dict(func=tflib.convert_images_to_uint8, nchw_to_nhwc=True)\r\n",
        "        images = Gs.run(latents, None, truncation_psi=0.7, randomize_noise=True, output_transform=fmt)\r\n",
        "\r\n",
        "        # Save image.\r\n",
        "        os.makedirs(config.result_dir, exist_ok=True)\r\n",
        "        name='/content/drive/My Drive/stylegan/example'+str(i)+'.png'\r\n",
        "        png_filename = os.path.join(config.result_dir, name)\r\n",
        "        PIL.Image.fromarray(images[0], 'RGB').save(png_filename)\r\n",
        "\r\n",
        "generate_images(10)"
      ],
      "execution_count": 39,
      "outputs": []
    }
  ]
}
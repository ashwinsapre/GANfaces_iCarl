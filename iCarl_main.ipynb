{
 "cells": [
  {
   "cell_type": "code",
   "execution_count": null,
   "metadata": {},
   "outputs": [],
   "source": [
    "def classify(X, exemplar_sets):\n",
    "    mean_of_exemplars=[]\n",
    "    for i in range(len(exemplar_sets)):\n",
    "        #calculate mean of each exemplar set using feature map\n",
    "        #mean_of_exemplars.append(mean)\n",
    "    #calcuate feature representation of X using feature map function\n",
    "    #exemplar set closest to X feature map is chosen\n",
    "    return 0"
   ]
  },
  {
   "cell_type": "code",
   "execution_count": null,
   "metadata": {},
   "outputs": [],
   "source": []
  }
 ],
 "metadata": {
  "kernelspec": {
   "display_name": "Python 3",
   "language": "python",
   "name": "python3"
  },
  "language_info": {
   "codemirror_mode": {
    "name": "ipython",
    "version": 3
   },
   "file_extension": ".py",
   "mimetype": "text/x-python",
   "name": "python",
   "nbconvert_exporter": "python",
   "pygments_lexer": "ipython3",
   "version": "3.7.0"
  }
 },
 "nbformat": 4,
 "nbformat_minor": 4
}

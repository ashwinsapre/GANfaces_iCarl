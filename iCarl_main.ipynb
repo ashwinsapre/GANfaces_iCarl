{
  "nbformat": 4,
  "nbformat_minor": 0,
  "metadata": {
    "kernelspec": {
      "display_name": "Python 3",
      "language": "python",
      "name": "python3"
    },
    "language_info": {
      "codemirror_mode": {
        "name": "ipython",
        "version": 3
      },
      "file_extension": ".py",
      "mimetype": "text/x-python",
      "name": "python",
      "nbconvert_exporter": "python",
      "pygments_lexer": "ipython3",
      "version": "3.7.0"
    },
    "colab": {
      "name": "iCarl_main.ipynb",
      "provenance": [],
      "include_colab_link": true
    },
    "accelerator": "GPU"
  },
  "cells": [
    {
      "cell_type": "markdown",
      "metadata": {
        "id": "view-in-github",
        "colab_type": "text"
      },
      "source": [
        "<a href=\"https://colab.research.google.com/github/ashwinsapre/GANfaces_iCarl/blob/main/iCarl_main.ipynb\" target=\"_parent\"><img src=\"https://colab.research.google.com/assets/colab-badge.svg\" alt=\"Open In Colab\"/></a>"
      ]
    },
    {
      "cell_type": "code",
      "metadata": {
        "id": "Y73F_4X-AuAy"
      },
      "source": [
        "import numpy as np\n",
        "import tensorflow as tf\n",
        "import matplotlib.pyplot as plt\n",
        "import pandas as pd\n",
        "from tensorflow import keras\n",
        "import keras.layers as L\n",
        "from keras.datasets import fashion_mnist\n",
        "from keras.applications import DenseNet121\n",
        "from keras.applications import VGG16\n",
        "import matplotlib.pyplot as plt"
      ],
      "execution_count": 4,
      "outputs": []
    },
    {
      "cell_type": "markdown",
      "metadata": {
        "id": "VttqVxphAuA6"
      },
      "source": [
        " For multi-task learning, branching NN out\n",
        "- one branch predicts the class of FashionMNIST object (classification)\n",
        "- other branch predicts whether the object is a \"top\" or not (0/1 output)"
      ]
    },
    {
      "cell_type": "code",
      "metadata": {
        "id": "-8-eX21QAuA6"
      },
      "source": [
        "def create_model(n_classes, input_dim, cl_weight, b_weight, lr):\n",
        "    '''\n",
        "        Creating categorical classification model\n",
        "    '''\n",
        "    \n",
        "    inputs=L.Input((input_dim,input_dim,1))\n",
        "    \n",
        "    xc=L.Conv2D(64, kernel_size=3, padding='same', strides=1)(inputs)\n",
        "    xc=L.LeakyReLU(0.2)(xc)\n",
        "    xc=L.Conv2D(64, kernel_size=3, padding='same', strides=1)(xc)\n",
        "    xc=L.LeakyReLU(0.2)(xc)\n",
        "    xc=L.MaxPool2D(pool_size=2, strides=2)(xc)\n",
        "    \n",
        "    xc=L.Conv2D(32, kernel_size=3, padding='same', strides=1)(inputs)\n",
        "    xc=L.LeakyReLU(0.2)(xc)\n",
        "    xc=L.Conv2D(32, kernel_size=3, padding='same', strides=1)(xc)\n",
        "    xc=L.LeakyReLU(0.2)(xc)\n",
        "    xc=L.MaxPool2D(pool_size=2, strides=2)(xc)\n",
        "    \n",
        "    xc=L.Conv2D(16, kernel_size=3, padding='same', strides=1)(xc)\n",
        "    xc=L.LeakyReLU(0.2)(xc)\n",
        "    xc=L.Conv2D(16, kernel_size=3, padding='same', strides=1)(xc)\n",
        "    xc=L.LeakyReLU(0.2)(xc)\n",
        "    xc=L.MaxPool2D(pool_size=2, strides=2)(xc)\n",
        "    \n",
        "    xc=L.Flatten()(xc)\n",
        "    xc=L.Dense(n_classes)(xc)\n",
        "    outputc=L.Softmax(name='outputc')(xc)\n",
        "    \n",
        "    '''\n",
        "        Creating binary classification model (a top/not a top)\n",
        "    '''\n",
        "    \n",
        "    x=L.LeakyReLU(0.2)(inputs)\n",
        "    x=L.Conv2D(32, kernel_size=3, padding='same', strides=1)(x)\n",
        "    x=L.LeakyReLU(0.2)(x)\n",
        "    x=L.MaxPool2D(pool_size=2, strides=2)(x)\n",
        "    \n",
        "    x=L.Conv2D(16, kernel_size=3, padding='same', strides=1)(x)\n",
        "    x=L.LeakyReLU(0.2)(x)\n",
        "    x=L.Conv2D(16, kernel_size=3, padding='same', strides=1)(x)\n",
        "    x=L.LeakyReLU(0.2)(x)\n",
        "    x=L.MaxPool2D(pool_size=2, strides=2)(x)\n",
        "    \n",
        "    x=L.Flatten()(x)\n",
        "    outputb=L.Dense(1, activation='sigmoid', name='outputb')(x)\n",
        "    #outputb=L.Activation('sigmoid', name=\"outputb\")(x)\n",
        "\n",
        "    '''\n",
        "        Combining both models\n",
        "    '''\n",
        "    model=keras.Model(inputs=inputs, outputs=[outputc, outputb])\n",
        "    losses={'outputc':'categorical_crossentropy', 'outputb':'binary_crossentropy'}\n",
        "    loss_weights=[cl_weight, b_weight]\n",
        "    model.compile(optimizer=keras.optimizers.Adam(lr), \n",
        "                      loss=losses,\n",
        "                      loss_weights=loss_weights,\n",
        "                      metrics=['accuracy'])\n",
        "    \n",
        "    return model"
      ],
      "execution_count": 5,
      "outputs": []
    },
    {
      "cell_type": "code",
      "metadata": {
        "id": "h3b09_gxAuA7"
      },
      "source": [
        "def train_model(model, n_epochs:int, x_train, y_trainc, y_trainb, validation_split):\n",
        "    history=model.fit(x=x_train, \n",
        "                      y={'outputc':y_trainc, 'outputb': y_trainb}, \n",
        "                      epochs=n_epochs, \n",
        "                      validation_split=0.1,\n",
        "                      shuffle=True)\n",
        "    return model"
      ],
      "execution_count": 6,
      "outputs": []
    },
    {
      "cell_type": "code",
      "metadata": {
        "id": "zd5OfDiIAuA7"
      },
      "source": [
        "def calc_feature_vectors(model, images):\n",
        "    #extract feature vector from a layer of ALREADY-TRAINED model\n",
        "    #size of feature vector=784\n",
        "    feature_model=keras.Model(inputs=model.inputs, outputs=model.get_layer(\"flatten\").output)\n",
        "    feature_vectors=feature_model.predict(images)\n",
        "    norms=np.linalg.norm(x, keepdims=True, axis=1)\n",
        "    feature_vectors=feature_vectors/norms\n",
        "    return feature_vectors"
      ],
      "execution_count": 55,
      "outputs": []
    },
    {
      "cell_type": "code",
      "metadata": {
        "id": "jymSn4mRtO5H"
      },
      "source": [
        "def create_exemplar_set(mem_size, n_classes, feature_vectors, labels):\r\n",
        "    #'images' has images all of class=y\r\n",
        "    per_class=mem_size/n_classes\r\n",
        "    \r\n",
        "    chosen_exemplars=exemplars[:size]\r\n",
        "    mean_exemplar=sum(exemplars)/len(images)\r\n",
        "    return chosen_exemplars, mean_exemplar"
      ],
      "execution_count": 37,
      "outputs": []
    },
    {
      "cell_type": "code",
      "metadata": {
        "id": "r9Wu1QlhAuA7"
      },
      "source": [
        "def classify(X, mean_exemplar_sets):    \n",
        "    image_vector=calc_feature_vectors(X)\n",
        "    #exemplar set closest to X feature map is chosen\n",
        "    return None"
      ],
      "execution_count": 9,
      "outputs": []
    },
    {
      "cell_type": "code",
      "metadata": {
        "id": "4l48ckkJAuA8"
      },
      "source": [
        "def transform_outputs(y_train, y_test):\n",
        "    labeldict={}\n",
        "    labeldict[0]=1\n",
        "    labeldict[1]=0\n",
        "    labeldict[2]=1\n",
        "    labeldict[3]=1\n",
        "    labeldict[4]=1\n",
        "    labeldict[5]=0\n",
        "    labeldict[6]=1\n",
        "    labeldict[7]=0\n",
        "    labeldict[8]=0\n",
        "    labeldict[9]=0\n",
        "    \n",
        "    y_trainb=[]\n",
        "    y_testb=[]\n",
        "    y_trainc=keras.utils.to_categorical(y_train)\n",
        "    y_testc=keras.utils.to_categorical(y_test)\n",
        "    \n",
        "    for i in range(len(y_train)):\n",
        "        y_trainb.append(labeldict[y_train[i]])\n",
        "        \n",
        "    for i in range(len(y_test)):\n",
        "        y_testb.append(labeldict[y_test[i]])\n",
        "    \n",
        "    return y_trainc, y_testc, np.asarray(y_trainb), np.asarray(y_testb)"
      ],
      "execution_count": 10,
      "outputs": []
    },
    {
      "cell_type": "code",
      "metadata": {
        "id": "HwrcNzQZAuA8"
      },
      "source": [
        "\n",
        "(x_train, y_train), (x_test, y_test)=tf.keras.datasets.fashion_mnist.load_data()\n",
        "x_train=x_train.reshape((x_train.shape[0], 28,28,1))\n",
        "x_test=x_test.reshape((x_test.shape[0],28,28,1))\n",
        "y_trainc, y_testc, y_trainb, y_testb=transform_outputs(y_train, y_test)\n",
        "x_train=x_train/255.0\n",
        "x_test=x_test/255.0\n",
        "\n",
        "#np.savetxt(\"ytrain_transformed.csv\", y_train, delimiter=',')\n",
        "#np.savetxt(\"ytest_transformed.csv\", y_test, delimiter=',')\n",
        "    \n",
        "#y_train=np.loadtxt(open(\"ytrain_transformed.csv\", \"rb\"), delimiter=',')\n",
        "#y_test=np.loadtxt(open(\"ytest_transformed.csv\", \"rb\"), delimiter=',')\n",
        "    \n",
        "model=create_model(n_classes=10, input_dim=28, cl_weight=1.0, b_weight=1.5, lr=0.0005)\n",
        "    \n",
        "train_model(model, 50, x_train, y_trainc, y_trainb, validation_split=0.1)\n",
        "model.save(\"trainedmodel.h5\")\n",
        "#-----------------------------------------------------------------------#"
      ],
      "execution_count": null,
      "outputs": []
    },
    {
      "cell_type": "code",
      "metadata": {
        "colab": {
          "base_uri": "https://localhost:8080/"
        },
        "id": "kNyXSMxAOvJN",
        "outputId": "c59aad4f-2388-4cbe-cfa2-923601a8f915"
      },
      "source": [
        "from google.colab import drive\r\n",
        "drive.mount(\"/content/gdrive\")"
      ],
      "execution_count": 12,
      "outputs": [
        {
          "output_type": "stream",
          "text": [
            "Drive already mounted at /content/gdrive; to attempt to forcibly remount, call drive.mount(\"/content/gdrive\", force_remount=True).\n"
          ],
          "name": "stdout"
        }
      ]
    },
    {
      "cell_type": "code",
      "metadata": {
        "id": "o5ZVQ9c4A8nj",
        "colab": {
          "base_uri": "https://localhost:8080/"
        },
        "outputId": "347d219d-bae8-4393-c728-50ecf31127fb"
      },
      "source": [
        "model.save(\"trainedmodel\", \"/content/gdrive/MyDrive/iCarlModel\")"
      ],
      "execution_count": 13,
      "outputs": [
        {
          "output_type": "stream",
          "text": [
            "INFO:tensorflow:Assets written to: trainedmodel/assets\n"
          ],
          "name": "stdout"
        }
      ]
    },
    {
      "cell_type": "code",
      "metadata": {
        "id": "txp8fFNgFzds"
      },
      "source": [
        "#mmodel=keras.models.load_model(\"trainedmodel\")"
      ],
      "execution_count": null,
      "outputs": []
    },
    {
      "cell_type": "code",
      "metadata": {
        "id": "pQCHdBBEA5as"
      },
      "source": [
        "tf.keras.utils.plot_model(model)"
      ],
      "execution_count": null,
      "outputs": []
    },
    {
      "cell_type": "code",
      "metadata": {
        "id": "qfA7dgW7EcBn"
      },
      "source": [
        "feature_model=keras.Model(inputs=model.inputs, outputs=model.get_layer(\"flatten\").output)"
      ],
      "execution_count": 15,
      "outputs": []
    },
    {
      "cell_type": "code",
      "metadata": {
        "colab": {
          "base_uri": "https://localhost:8080/"
        },
        "id": "tpDZ9X6UFnVh",
        "outputId": "5847b133-34b9-43db-a144-4e43bd8a470d"
      },
      "source": [
        "op=calc_feature_vectors(feature_model,x_test)\r\n",
        "print(op)"
      ],
      "execution_count": 56,
      "outputs": [
        {
          "output_type": "stream",
          "text": [
            "[[ 0.26350933  0.90494907 -0.23582979 ...  1.2049216   6.4674115\n",
            "  -0.500163  ]\n",
            " [ 0.04314201  2.436394   -0.5777197  ...  2.1892037  -0.34662798\n",
            "   2.5711706 ]\n",
            " [ 0.26350963  0.9049492  -0.23582976 ... -0.03049961  1.2713735\n",
            "  -0.17482606]\n",
            " ...\n",
            " [ 0.26268092  0.90293646 -0.23582977 ...  0.8799507   2.0350876\n",
            "  -0.30383348]\n",
            " [ 0.2635094   0.90494967 -0.23582976 ... -0.03049955  1.6761165\n",
            "  -0.1748261 ]\n",
            " [ 0.26263723  0.90260303 -0.23582977 ...  1.142086    5.4967647\n",
            "  -0.52315843]]\n"
          ],
          "name": "stdout"
        }
      ]
    },
    {
      "cell_type": "code",
      "metadata": {
        "id": "bNKet84IYkKY"
      },
      "source": [
        "print(op.shape)\r\n",
        "print(y_train.shape)"
      ],
      "execution_count": null,
      "outputs": []
    }
  ]
}
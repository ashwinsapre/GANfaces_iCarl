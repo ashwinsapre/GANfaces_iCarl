{
  "nbformat": 4,
  "nbformat_minor": 0,
  "metadata": {
    "kernelspec": {
      "display_name": "Python 3",
      "language": "python",
      "name": "python3"
    },
    "language_info": {
      "codemirror_mode": {
        "name": "ipython",
        "version": 3
      },
      "file_extension": ".py",
      "mimetype": "text/x-python",
      "name": "python",
      "nbconvert_exporter": "python",
      "pygments_lexer": "ipython3",
      "version": "3.7.0"
    },
    "colab": {
      "name": "iCarl_main.ipynb",
      "provenance": [],
      "include_colab_link": true
    },
    "accelerator": "GPU"
  },
  "cells": [
    {
      "cell_type": "markdown",
      "metadata": {
        "id": "view-in-github",
        "colab_type": "text"
      },
      "source": [
        "<a href=\"https://colab.research.google.com/github/ashwinsapre/GANfaces_iCarl/blob/main/iCarl_main.ipynb\" target=\"_parent\"><img src=\"https://colab.research.google.com/assets/colab-badge.svg\" alt=\"Open In Colab\"/></a>"
      ]
    },
    {
      "cell_type": "code",
      "metadata": {
        "id": "Y73F_4X-AuAy"
      },
      "source": [
        "import numpy as np\n",
        "import tensorflow as tf\n",
        "import matplotlib.pyplot as plt\n",
        "import pandas as pd\n",
        "from tensorflow import keras\n",
        "import keras.layers as L\n",
        "from keras.datasets import fashion_mnist\n",
        "from keras.applications import DenseNet121\n",
        "from keras.applications import VGG16\n",
        "import matplotlib.pyplot as plt"
      ],
      "execution_count": 4,
      "outputs": []
    },
    {
      "cell_type": "markdown",
      "metadata": {
        "id": "VttqVxphAuA6"
      },
      "source": [
        " For multi-task learning, branching NN out\n",
        "- one branch predicts the class of FashionMNIST object (classification)\n",
        "- other branch predicts whether the object is a \"top\" or not (0/1 output)"
      ]
    },
    {
      "cell_type": "code",
      "metadata": {
        "id": "-8-eX21QAuA6"
      },
      "source": [
        "def create_model(n_classes, input_dim, cl_weight, b_weight, lr):\n",
        "    '''\n",
        "        Creating categorical classification model\n",
        "    '''\n",
        "    \n",
        "    inputs=L.Input((input_dim,input_dim,1))\n",
        "    \n",
        "    xc=L.Conv2D(64, kernel_size=3, padding='same', strides=1)(inputs)\n",
        "    xc=L.LeakyReLU(0.2)(xc)\n",
        "    xc=L.Conv2D(64, kernel_size=3, padding='same', strides=1)(xc)\n",
        "    xc=L.LeakyReLU(0.2)(xc)\n",
        "    xc=L.MaxPool2D(pool_size=2, strides=2)(xc)\n",
        "    \n",
        "    xc=L.Conv2D(32, kernel_size=3, padding='same', strides=1)(inputs)\n",
        "    xc=L.LeakyReLU(0.2)(xc)\n",
        "    xc=L.Conv2D(32, kernel_size=3, padding='same', strides=1)(xc)\n",
        "    xc=L.LeakyReLU(0.2)(xc)\n",
        "    xc=L.MaxPool2D(pool_size=2, strides=2)(xc)\n",
        "    \n",
        "    xc=L.Conv2D(16, kernel_size=3, padding='same', strides=1)(xc)\n",
        "    xc=L.LeakyReLU(0.2)(xc)\n",
        "    xc=L.Conv2D(16, kernel_size=3, padding='same', strides=1)(xc)\n",
        "    xc=L.LeakyReLU(0.2)(xc)\n",
        "    xc=L.MaxPool2D(pool_size=2, strides=2)(xc)\n",
        "    \n",
        "    xc=L.Flatten()(xc)\n",
        "    xc=L.Dense(n_classes)(xc)\n",
        "    outputc=L.Softmax(name='outputc')(xc)\n",
        "    \n",
        "    '''\n",
        "        Creating binary classification model (a top/not a top)\n",
        "    '''\n",
        "    \n",
        "    x=L.LeakyReLU(0.2)(inputs)\n",
        "    x=L.Conv2D(32, kernel_size=3, padding='same', strides=1)(x)\n",
        "    x=L.LeakyReLU(0.2)(x)\n",
        "    x=L.MaxPool2D(pool_size=2, strides=2)(x)\n",
        "    \n",
        "    x=L.Conv2D(16, kernel_size=3, padding='same', strides=1)(x)\n",
        "    x=L.LeakyReLU(0.2)(x)\n",
        "    x=L.Conv2D(16, kernel_size=3, padding='same', strides=1)(x)\n",
        "    x=L.LeakyReLU(0.2)(x)\n",
        "    x=L.MaxPool2D(pool_size=2, strides=2)(x)\n",
        "    \n",
        "    x=L.Flatten()(x)\n",
        "    outputb=L.Dense(1, activation='sigmoid', name='outputb')(x)\n",
        "    #outputb=L.Activation('sigmoid', name=\"outputb\")(x)\n",
        "\n",
        "    '''\n",
        "        Combining both models\n",
        "    '''\n",
        "    model=keras.Model(inputs=inputs, outputs=[outputc, outputb])\n",
        "    losses={'outputc':'categorical_crossentropy', 'outputb':'binary_crossentropy'}\n",
        "    loss_weights=[cl_weight, b_weight]\n",
        "    model.compile(optimizer=keras.optimizers.Adam(lr), \n",
        "                      loss=losses,\n",
        "                      loss_weights=loss_weights,\n",
        "                      metrics=['accuracy'])\n",
        "    \n",
        "    return model"
      ],
      "execution_count": 59,
      "outputs": []
    },
    {
      "cell_type": "code",
      "metadata": {
        "id": "h3b09_gxAuA7"
      },
      "source": [
        "def train_model(model, n_epochs:int, x_train, y_trainc, y_trainb, validation_split):\n",
        "    history=model.fit(x=x_train, \n",
        "                      y={'outputc':y_trainc, 'outputb': y_trainb}, \n",
        "                      epochs=n_epochs, \n",
        "                      validation_split=0.1,\n",
        "                      shuffle=True)\n",
        "    return model"
      ],
      "execution_count": 6,
      "outputs": []
    },
    {
      "cell_type": "code",
      "metadata": {
        "id": "zd5OfDiIAuA7"
      },
      "source": [
        "def calc_feature_vectors(model, images):\n",
        "    #extract feature vector from a layer of ALREADY-TRAINED model\n",
        "    #size of feature vector=784\n",
        "    feature_model=keras.Model(inputs=model.inputs, outputs=model.get_layer(\"flatten\").output)\n",
        "    feature_vectors=feature_model.predict(images)\n",
        "    norms=np.linalg.norm(x, keepdims=True, axis=1)\n",
        "    feature_vectors=feature_vectors/norms\n",
        "    return feature_vectors"
      ],
      "execution_count": 55,
      "outputs": []
    },
    {
      "cell_type": "code",
      "metadata": {
        "id": "jymSn4mRtO5H"
      },
      "source": [
        "def create_exemplar_set(mem_size, n_classes, feature_vectors, labels):\r\n",
        "    #class_positions={}\r\n",
        "    class_vectors={}\r\n",
        "    mean_class_vectors={}\r\n",
        "    for i in range(n_classes):\r\n",
        "      #class_positions[i]=[]\r\n",
        "      class_vectors[i]=[]\r\n",
        "      mean_class_vectors[i]=[]\r\n",
        "    per_class=mem_size/n_classes\r\n",
        "    for i in range(len(labels)):\r\n",
        "      class_vectors[labels[i]].append(feature_vectors[i])\r\n",
        "    for i in range(n_classes):\r\n",
        "      mean_class_vectors[i]=np.sum(class_vectors[i], axis=0)/len(class_vectors[i])\r\n",
        "    \r\n",
        "    return None"
      ],
      "execution_count": 71,
      "outputs": []
    },
    {
      "cell_type": "code",
      "metadata": {
        "id": "r9Wu1QlhAuA7"
      },
      "source": [
        "def classify(X, mean_exemplar_sets):    \n",
        "    image_vector=calc_feature_vectors(X)\n",
        "    #exemplar set closest to X feature map is chosen\n",
        "    return None"
      ],
      "execution_count": 9,
      "outputs": []
    },
    {
      "cell_type": "code",
      "metadata": {
        "id": "4l48ckkJAuA8"
      },
      "source": [
        "def transform_outputs(y_train, y_test):\n",
        "    labeldict={}\n",
        "    labeldict[0]=1\n",
        "    labeldict[1]=0\n",
        "    labeldict[2]=1\n",
        "    labeldict[3]=1\n",
        "    labeldict[4]=1\n",
        "    labeldict[5]=0\n",
        "    labeldict[6]=1\n",
        "    labeldict[7]=0\n",
        "    labeldict[8]=0\n",
        "    labeldict[9]=0\n",
        "    \n",
        "    y_trainb=[]\n",
        "    y_testb=[]\n",
        "    y_trainc=keras.utils.to_categorical(y_train)\n",
        "    y_testc=keras.utils.to_categorical(y_test)\n",
        "    \n",
        "    for i in range(len(y_train)):\n",
        "        y_trainb.append(labeldict[y_train[i]])\n",
        "        \n",
        "    for i in range(len(y_test)):\n",
        "        y_testb.append(labeldict[y_test[i]])\n",
        "    \n",
        "    return y_trainc, y_testc, np.asarray(y_trainb), np.asarray(y_testb)"
      ],
      "execution_count": 10,
      "outputs": []
    },
    {
      "cell_type": "code",
      "metadata": {
        "id": "HwrcNzQZAuA8"
      },
      "source": [
        "\n",
        "(x_train, y_train), (x_test, y_test)=tf.keras.datasets.fashion_mnist.load_data()\n",
        "x_train=x_train.reshape((x_train.shape[0], 28,28,1))\n",
        "x_test=x_test.reshape((x_test.shape[0],28,28,1))\n",
        "y_trainc, y_testc, y_trainb, y_testb=transform_outputs(y_train, y_test)\n",
        "x_train=x_train/255.0\n",
        "x_test=x_test/255.0\n",
        "\n",
        "#np.savetxt(\"ytrain_transformed.csv\", y_train, delimiter=',')\n",
        "#np.savetxt(\"ytest_transformed.csv\", y_test, delimiter=',')\n",
        "    \n",
        "#y_train=np.loadtxt(open(\"ytrain_transformed.csv\", \"rb\"), delimiter=',')\n",
        "#y_test=np.loadtxt(open(\"ytest_transformed.csv\", \"rb\"), delimiter=',')\n",
        "    \n",
        "model=create_model(n_classes=10, input_dim=28, cl_weight=1.0, b_weight=1.5, lr=0.0005)\n",
        "    \n",
        "train_model(model, 50, x_train, y_trainc, y_trainb, validation_split=0.1)\n",
        "model.save(\"trainedmodel.h5\")\n",
        "#-----------------------------------------------------------------------#"
      ],
      "execution_count": null,
      "outputs": []
    },
    {
      "cell_type": "code",
      "metadata": {
        "colab": {
          "base_uri": "https://localhost:8080/"
        },
        "id": "kNyXSMxAOvJN",
        "outputId": "c59aad4f-2388-4cbe-cfa2-923601a8f915"
      },
      "source": [
        "from google.colab import drive\r\n",
        "drive.mount(\"/content/gdrive\")"
      ],
      "execution_count": 12,
      "outputs": [
        {
          "output_type": "stream",
          "text": [
            "Drive already mounted at /content/gdrive; to attempt to forcibly remount, call drive.mount(\"/content/gdrive\", force_remount=True).\n"
          ],
          "name": "stdout"
        }
      ]
    },
    {
      "cell_type": "code",
      "metadata": {
        "id": "o5ZVQ9c4A8nj",
        "colab": {
          "base_uri": "https://localhost:8080/"
        },
        "outputId": "347d219d-bae8-4393-c728-50ecf31127fb"
      },
      "source": [
        "model.save(\"trainedmodel\", \"/content/gdrive/MyDrive/iCarlModel\")"
      ],
      "execution_count": 13,
      "outputs": [
        {
          "output_type": "stream",
          "text": [
            "INFO:tensorflow:Assets written to: trainedmodel/assets\n"
          ],
          "name": "stdout"
        }
      ]
    },
    {
      "cell_type": "code",
      "metadata": {
        "id": "txp8fFNgFzds"
      },
      "source": [
        "#mmodel=keras.models.load_model(\"trainedmodel\")"
      ],
      "execution_count": null,
      "outputs": []
    },
    {
      "cell_type": "code",
      "metadata": {
        "id": "pQCHdBBEA5as"
      },
      "source": [
        "tf.keras.utils.plot_model(model)"
      ],
      "execution_count": null,
      "outputs": []
    },
    {
      "cell_type": "code",
      "metadata": {
        "id": "qfA7dgW7EcBn"
      },
      "source": [
        "feature_model=keras.Model(inputs=model.inputs, outputs=model.get_layer(\"flatten\").output)"
      ],
      "execution_count": 15,
      "outputs": []
    },
    {
      "cell_type": "code",
      "metadata": {
        "id": "IxmS7wln2gKO"
      },
      "source": [
        "feature_model=keras.Model(inputs=model.inputs, outputs=model.get_layer(\"flatten\").output)\r\n",
        "feature_vectors=feature_model.predict(x_test)\r\n",
        "norms=np.linalg.norm(x, keepdims=True, axis=1)\r\n",
        "feature_vectors=feature_vectors/norms"
      ],
      "execution_count": 73,
      "outputs": []
    },
    {
      "cell_type": "code",
      "metadata": {
        "colab": {
          "base_uri": "https://localhost:8080/"
        },
        "id": "tpDZ9X6UFnVh",
        "outputId": "68718b7d-0e9b-4701-86cc-e42b5500f62c"
      },
      "source": [
        "class_vectors={}\r\n",
        "mean_class_vectors={}\r\n",
        "for i in range(10):\r\n",
        "  #class_positions[i]=[]\r\n",
        "  class_vectors[i]=[]\r\n",
        "  mean_class_vectors[i]=[]\r\n",
        "for i in range(len(y_test)):\r\n",
        "  class_vectors[y_test[i]].append(feature_vectors[i])\r\n",
        "for i in range(10):\r\n",
        "  mean_class_vectors[i]=np.sum(class_vectors[i], axis=0)/len(class_vectors[i])\r\n"
      ],
      "execution_count": 84,
      "outputs": [
        {
          "output_type": "stream",
          "text": [
            "[ 2.67231047e-01  8.76663804e-01 -2.37621531e-01 -1.91743404e-01\n",
            "  7.09493607e-02  1.01567516e-02  2.51423746e-01 -6.26660809e-02\n",
            " -1.62118301e-01  1.17983627e+00 -7.00523192e-03  7.54579067e-01\n",
            " -2.12251142e-01  1.90818459e-02  4.13949400e-01 -6.94721192e-02\n",
            " -4.73426402e-01  5.27047038e-01 -1.44060001e-01  7.67994583e-01\n",
            "  2.00430512e+00 -2.27109268e-02  1.92635223e-01  8.78275633e-02\n",
            " -3.92759740e-01  2.19561052e+00  1.93679953e+00  1.81636453e+00\n",
            " -3.99177745e-02 -4.07750644e-02  4.76915866e-01  6.44306242e-01\n",
            " -3.85541946e-01  9.56441522e-01  3.78453565e+00  4.39373636e+00\n",
            " -4.71654415e-01  1.22615576e+00  9.89518642e-01  2.84809947e+00\n",
            "  1.82783341e+00  3.51449877e-01  3.37210417e+00  3.83222246e+00\n",
            "  6.41598749e+00  1.46214616e+00 -1.69514135e-01 -1.70970321e-01\n",
            "  9.06979859e-01  5.95623732e-01  5.84877014e-01  7.78654039e-01\n",
            " -3.15418392e-01  6.03955030e-01 -3.00451249e-01  3.35943484e+00\n",
            "  7.65587091e-01  7.77963847e-02  1.16813743e+00  6.36053920e-01\n",
            "  9.60300803e-01  7.17083991e-01  1.40077913e+00  1.45338142e+00\n",
            "  5.18661976e-01 -2.93905437e-01  3.48398894e-01 -3.29203159e-02\n",
            "  1.03758857e-01  7.31275499e-01 -8.06389093e-01  3.13677955e+00\n",
            " -1.62557662e-02 -5.68480715e-02  2.84339166e+00  6.02368593e-01\n",
            " -2.87036836e-01  2.06688714e+00  3.22937191e-01  9.81216311e-01\n",
            " -2.71865368e-01 -4.63146493e-02 -2.84096636e-02  1.24030900e+00\n",
            "  1.46292222e+00 -5.88292897e-01 -2.80646738e-02  2.01848364e+00\n",
            " -2.10746542e-01  4.44159222e+00  1.02108479e+00  1.56590760e+00\n",
            " -5.09204447e-01  5.89554667e-01  1.33446932e+00  2.74998426e+00\n",
            " -1.37809336e-01  4.40776497e-01  1.35458097e-01  8.80397707e-02\n",
            "  2.26400211e-03 -3.95567305e-02  9.34143841e-01 -1.99071422e-01\n",
            "  3.31830949e-01  1.95229733e+00  4.42714244e-01  1.26954222e+00\n",
            "  7.08139017e-02 -8.96657556e-02  2.24054360e+00 -2.37429559e-01\n",
            " -1.55051440e-01  3.71266872e-01 -7.64369443e-02 -1.49487227e-01\n",
            " -1.90420493e-01 -1.59272049e-02 -1.41890541e-01 -3.79337221e-02\n",
            " -9.39002410e-02 -2.38320343e-02 -3.94114107e-02 -4.71429639e-02\n",
            " -2.84219086e-01 -2.02933937e-01  3.25614661e-01 -4.61934134e-02\n",
            " -6.31960154e-01 -4.52651173e-01 -1.35045856e-01 -9.46994945e-02\n",
            "  4.14294377e-02 -3.70139003e-01 -1.54221356e-01  4.11374301e-01\n",
            " -3.66541386e-01  9.79628563e-01 -9.80196744e-02  8.70273352e-01\n",
            " -1.13729075e-01 -1.07953958e-01  2.15463138e+00  1.65916574e+00\n",
            "  1.59549940e+00  6.25161827e-01  2.61697912e+00  5.84057868e-01\n",
            " -1.21327847e-01  3.63627195e-01 -3.55003953e-01  1.83583272e+00\n",
            "  1.01729000e+00  3.14321965e-01  2.92763138e+00  6.28226459e-01\n",
            "  2.66621995e+00  1.55958283e+00 -2.00696185e-01  2.13240795e-02\n",
            " -2.24652719e-02 -8.44710320e-02  1.06176771e-01  4.66623843e-01\n",
            "  1.95665562e+00  6.45749927e-01 -1.24074258e-01 -3.80783528e-02\n",
            "  2.85393558e-02  4.83891726e-01  1.80933559e+00 -9.19739529e-02\n",
            "  2.54895359e-01  9.95324373e-01 -5.32177806e-01  2.11849952e+00\n",
            "  1.07767653e+00  2.22041392e+00  1.92684844e-01  5.95778711e-02\n",
            "  2.88190424e-01  3.26264828e-01 -8.48440647e-01 -3.22481304e-01\n",
            " -2.21273810e-01 -1.93510592e-01  8.91379356e-01  5.27687669e-01\n",
            " -2.61036068e-01  1.83254445e+00 -1.25097227e+00 -1.75038800e-01\n",
            " -6.78195536e-01 -2.25562200e-01  2.24868864e-01  8.81441161e-02\n",
            " -1.69614747e-01 -5.13916075e-01 -7.94675112e-01  6.32869303e-01\n",
            " -1.29400954e-01 -3.02112736e-02  2.03317195e-01  9.44409817e-02\n",
            " -8.23464334e-01  2.66757131e-01  2.55312264e-01  1.35068524e+00\n",
            " -3.63399833e-01  1.19066112e-01  8.30236316e-01  5.18129021e-02\n",
            " -1.59930050e-01 -2.29886949e-01  3.85214150e-01 -2.86904369e-02\n",
            "  3.34358364e-01  1.62935328e+00 -1.43212350e-02  7.02204406e-01\n",
            "  3.79747421e-01  1.80634037e-01  1.49384212e+00 -3.22977394e-01\n",
            " -1.56640351e-01  3.75097990e-01 -6.73242211e-02 -2.03282952e-01\n",
            " -1.77905887e-01 -9.78883542e-03 -1.47953123e-01 -9.12904441e-02\n",
            " -9.42828953e-02 -3.85118648e-02 -8.10304284e-02 -2.45400574e-02\n",
            " -2.74316400e-01 -1.95498317e-01  5.76186404e-02 -2.10448056e-02\n",
            " -6.01370692e-01 -3.53777140e-01 -2.59329677e-01 -1.25723094e-01\n",
            "  4.89230961e-01 -3.18500370e-01 -2.36272469e-01  1.64397523e-01\n",
            " -3.50804389e-01  1.16890728e+00 -1.55606464e-01  8.26543868e-01\n",
            "  1.16683915e-01 -1.45943522e-01  8.54141295e-01  9.92719591e-01\n",
            "  2.15001106e+00  2.33971000e-01  1.25546706e+00  3.88498545e-01\n",
            " -2.80754656e-01  2.99456358e-01  8.01607728e-01  1.15248561e+00\n",
            " -1.04966259e+00  7.75013089e-01  2.14530563e+00  3.45101446e-01\n",
            "  1.05070615e+00  3.75049531e-01  3.96455899e-02  6.60899639e-01\n",
            "  3.06640834e-01  3.47928911e-01 -1.40535653e-01  2.14830565e+00\n",
            "  5.64367151e+00 -1.82416439e-01  5.83540380e-01 -1.04298390e-01\n",
            " -1.45983255e+00  7.69397497e-01  3.68861532e+00  4.53893654e-02\n",
            "  9.55460429e-01  2.61627054e+00 -5.49131393e-01  2.17261791e+00\n",
            "  5.74737847e-01  1.02210057e+00 -1.83858231e-01 -6.28283545e-02\n",
            "  1.32617414e+00 -1.74213752e-01 -7.18453288e-01 -2.94805646e-01\n",
            " -7.61134565e-01 -6.27827108e-01  1.41919148e+00 -8.41778517e-01\n",
            " -6.38208017e-02  1.80692756e+00 -1.46382535e+00  2.85603911e-01\n",
            " -5.87962985e-01 -1.21606797e-01  2.14249760e-01 -8.33074749e-02\n",
            " -2.06566826e-02 -5.26528955e-01 -6.67313993e-01  1.90390602e-01\n",
            " -1.36195764e-01 -1.89081614e-03  9.09006223e-02  4.04262066e-01\n",
            " -6.96954429e-01  2.54984319e-01 -2.23334860e-02  1.53396177e+00\n",
            " -3.62488478e-01  1.75472721e-01  7.45669663e-01 -8.18453431e-02\n",
            " -1.88964397e-01 -2.28698134e-01  3.84537816e-01 -1.55145362e-01\n",
            "  2.58139342e-01  1.14817786e+00 -1.02263615e-02  4.92138922e-01\n",
            "  3.83419484e-01 -5.35181202e-02  7.06570566e-01 -3.09537113e-01\n",
            " -1.55781314e-01  3.75511497e-01 -8.22467208e-02 -1.90098420e-01\n",
            " -1.74401850e-01 -1.33258803e-02 -1.73578978e-01 -8.55033845e-02\n",
            " -1.00182749e-01  9.10204835e-03 -8.30852836e-02  6.55744001e-02\n",
            " -2.69998878e-01 -1.98374733e-01  1.06083222e-01 -2.53429301e-02\n",
            " -5.66285193e-01 -4.02744710e-01 -3.58367503e-01 -1.66497752e-01\n",
            "  3.70605290e-01 -3.46916169e-01 -2.81188488e-01  2.37137213e-01\n",
            " -3.79055381e-01  1.12612164e+00 -1.52166307e-01  6.95838571e-01\n",
            "  1.39691234e-01 -2.09248096e-01  8.69018555e-01  5.27711570e-01\n",
            "  2.30662990e+00 -2.44853511e-01  4.43484575e-01  8.40402246e-01\n",
            "  2.17424892e-02  6.30673289e-01  2.29070449e+00  8.55195224e-01\n",
            " -1.40824497e+00  1.41975868e+00  1.02573359e+00  5.21334648e-01\n",
            "  1.77452445e-01  7.96512485e-01  7.09012628e-01  1.08316457e+00\n",
            "  7.73711145e-01  2.15177002e-04 -3.36588383e-01  3.71304083e+00\n",
            "  3.60648513e+00 -5.46577871e-01  5.90024292e-01  5.67390956e-03\n",
            " -1.71052086e+00  9.62785423e-01  3.11751795e+00  2.28874967e-01\n",
            "  1.71106860e-01  2.27907610e+00 -5.72560728e-01  2.23739195e+00\n",
            "  7.03315556e-01  4.36641484e-01 -2.66749918e-01 -1.36924803e-01\n",
            "  1.09990394e+00 -4.69826400e-01 -8.28622222e-01 -4.40353155e-01\n",
            " -6.06082976e-01 -6.65338576e-01  1.94705868e+00 -9.13833976e-01\n",
            " -1.84149146e-01  1.52636826e+00 -1.32321215e+00  1.17977679e+00\n",
            " -5.53466678e-01 -6.11992553e-02  5.03824949e-01 -1.94703579e-01\n",
            " -7.76323825e-02 -5.96447706e-01 -6.17764413e-01  1.43304199e-01\n",
            " -1.23514026e-01  5.06852418e-02  4.10425812e-02  5.03469765e-01\n",
            " -6.00629270e-01  1.38534620e-01  1.01923436e-01  1.33060122e+00\n",
            " -3.59546155e-01  2.44832989e-02  4.77324992e-01 -1.46536440e-01\n",
            " -2.11017758e-01 -2.30816394e-01  3.97282779e-01 -1.66215837e-01\n",
            "  2.67040759e-01  1.28838062e+00  6.20586984e-03  5.26210368e-01\n",
            "  3.96064430e-01 -4.54510152e-02  7.42022753e-01 -2.93602467e-01\n",
            " -1.59871578e-01  3.83774221e-01 -7.76388720e-02 -1.85372040e-01\n",
            " -1.74772501e-01 -9.23282281e-03 -1.77036092e-01 -9.11634639e-02\n",
            " -9.26794037e-02  6.19058274e-02 -8.12847614e-02  1.26573652e-01\n",
            " -2.70212412e-01 -2.01617673e-01  1.01249628e-01 -5.10545224e-02\n",
            " -5.01806140e-01 -4.68802124e-01 -4.19129491e-01 -1.51208356e-01\n",
            "  3.67743373e-01 -3.41400266e-01 -2.53263205e-01  1.04290836e-01\n",
            " -3.85832876e-01  1.09841871e+00 -1.12107329e-01  5.06202221e-01\n",
            "  1.24322670e-02 -1.93326682e-01  8.72310400e-01  4.78547245e-01\n",
            "  1.59951830e+00 -3.45055580e-01  3.10107976e-01  9.88026977e-01\n",
            " -3.90983582e-01  5.38952172e-01  2.64255977e+00  4.21629727e-01\n",
            " -1.19489777e+00  1.98153520e+00  8.60345602e-01  6.77297235e-01\n",
            "  2.26812989e-01  9.02035952e-01  1.20456767e+00  7.77767003e-01\n",
            "  9.76976156e-01 -2.95567125e-01 -3.99740815e-01  4.05371618e+00\n",
            "  2.35314870e+00 -6.19720042e-01  9.46033671e-02  3.02410096e-01\n",
            " -1.44523132e+00  1.54380798e+00  2.63048005e+00 -1.10067462e-03\n",
            " -6.92267045e-02  2.20736003e+00 -2.76152909e-01  2.47569752e+00\n",
            "  5.29244959e-01  5.67896307e-01 -8.66759717e-02  3.92749347e-02\n",
            "  5.96996725e-01 -5.40673852e-01 -7.35008180e-01 -4.10415441e-01\n",
            " -2.43024841e-01 -5.07255435e-01  2.25469637e+00 -9.78278100e-01\n",
            " -2.30429724e-01  1.02966273e+00 -1.28003633e+00  1.53890646e+00\n",
            " -5.30992806e-01 -5.04759774e-02  7.62546957e-01 -6.95113987e-02\n",
            " -1.11148410e-01 -6.36284113e-01 -6.26162827e-01  2.18102172e-01\n",
            " -1.48433208e-01  2.76638836e-01  2.17290670e-02  5.10747433e-01\n",
            " -5.80772817e-01  1.90304905e-01  1.54413491e-01  9.47720349e-01\n",
            " -3.58615875e-01 -9.24871862e-03  4.19856608e-01 -1.43062711e-01\n",
            " -2.06520826e-01 -2.27115050e-01  4.02029634e-01 -1.66514233e-01\n",
            "  2.63905078e-01  1.33670688e+00  1.07169915e-02  5.82166612e-01\n",
            "  4.02889669e-01 -3.65726389e-02  7.39962399e-01 -2.86049306e-01\n",
            " -1.60540730e-01  3.93959939e-01 -1.76416151e-02 -1.58670381e-01\n",
            " -1.82444423e-01  2.99895671e-03 -1.83694482e-01 -6.43804669e-02\n",
            " -8.98045227e-02  1.10204376e-01 -5.11444919e-02  2.13291273e-01\n",
            " -2.60087460e-01 -1.98749572e-01  1.32494912e-01 -9.57812220e-02\n",
            " -4.30032939e-01 -5.50539315e-01 -4.17740434e-01 -9.36003029e-02\n",
            "  3.47540006e-02 -2.67838836e-01 -1.25691190e-01  1.95187867e-01\n",
            " -3.36239398e-01  9.60625708e-01 -2.76555084e-02  2.63093382e-01\n",
            " -1.00012295e-01 -2.12069005e-01  7.80201375e-01  2.49574751e-01\n",
            "  1.32419109e+00 -3.46885860e-01  1.73131064e-01  1.16850853e+00\n",
            " -3.64543468e-01  7.13389039e-01  2.96923590e+00  1.11691296e-01\n",
            " -9.87020969e-01  2.72023082e+00  6.89417541e-01  1.03822863e+00\n",
            "  2.85753071e-01  7.70216346e-01  1.34461844e+00  7.41052926e-01\n",
            "  1.11936057e+00 -5.31108677e-01 -3.25238824e-01  3.06664968e+00\n",
            "  1.88476861e+00 -4.94775325e-01  1.42604962e-01  3.97077262e-01\n",
            " -1.11429465e+00  1.14164877e+00  2.93324256e+00 -8.80022049e-02\n",
            " -3.49442363e-01  1.88375366e+00 -4.96145457e-01  2.17122889e+00\n",
            "  7.77855039e-01  4.50990945e-01  5.35735004e-02  1.86557367e-01\n",
            "  8.58704031e-01 -2.16015592e-01 -5.54603636e-01 -5.03862083e-01\n",
            "  1.25046130e-02 -2.38277406e-01  2.26453328e+00 -7.78253794e-01\n",
            " -8.61406047e-03  1.40285373e+00 -1.24173462e+00  1.76366496e+00\n",
            " -3.95461649e-01 -5.46837458e-03  8.96512806e-01 -1.26513302e-01\n",
            " -1.25828549e-01 -3.96182090e-01 -6.01436079e-01  2.12974936e-01\n",
            " -1.41600177e-01  2.48231459e-02  6.57555684e-02  6.34762526e-01\n",
            " -5.67353487e-01  2.08565488e-01  9.60355252e-02  1.03816211e+00\n",
            " -3.57617319e-01 -5.05396631e-03  4.53915894e-01 -1.37368709e-01\n",
            " -2.02553824e-01 -2.08759427e-01  4.06419337e-01 -1.58476919e-01\n",
            "  2.75961995e-01  1.24860835e+00  6.61358563e-03  5.33447862e-01\n",
            "  4.63023722e-01 -2.43124645e-02  7.53286839e-01 -2.77667493e-01\n",
            " -2.55141333e-02  4.18781638e-01 -1.33434057e-01  3.14243361e-02\n",
            " -2.17702910e-01 -7.40229785e-02 -3.96038353e-01  5.41538894e-01\n",
            " -1.76865961e-02 -1.46348421e-02 -2.45213676e-02 -1.41909276e-03\n",
            " -9.58078206e-02 -1.51654541e-01  8.18609059e-01  1.44925058e-01\n",
            "  1.15310345e-02  1.28120080e-01  1.54303059e-01  5.85494637e-01\n",
            " -4.30654734e-02 -2.38159418e-01 -2.70316184e-01  1.61820006e+00\n",
            " -1.49736553e-01  4.36344206e-01  2.22454742e-01  8.17752164e-03\n",
            "  2.21040368e-01  4.29011555e-03  1.96168125e+00  5.44982672e-01\n",
            "  1.04158401e+00  9.98450398e-01  1.56296504e+00  2.63556862e+00\n",
            "  7.95938745e-02  3.71946931e-01  2.49051952e+00  4.17109251e-01\n",
            " -8.50005865e-01  3.28475738e+00  1.09358096e+00  9.55502868e-01\n",
            "  2.08354878e+00  2.51653075e+00  1.10260427e+00  6.76876679e-03\n",
            "  2.37124777e+00  2.87543058e-01  7.98930153e-02  3.51808715e+00\n",
            "  2.82749629e+00  4.95112658e-01  1.18981755e+00 -2.62789726e-02\n",
            " -1.10274993e-01  6.40005529e-01  2.22109365e+00  3.63006413e-01\n",
            "  1.46534204e+00  1.91775334e+00 -5.49078465e-01  2.98488832e+00\n",
            "  6.81691170e-01  1.42369604e+00 -2.26916857e-02  1.56244233e-01\n",
            "  1.32477665e+00  2.38379821e-01 -5.70693314e-01 -4.83377397e-01\n",
            "  2.59638619e+00  6.92814648e-01  1.00282156e+00  1.37472162e-02\n",
            "  2.83299589e+00  2.54799438e+00 -5.79755783e-01  3.47432780e+00\n",
            " -3.71585310e-01  2.08284155e-01 -5.54059632e-03 -5.80540821e-02\n",
            " -2.28030443e-01 -2.19053343e-01 -3.00428480e-01  2.00515151e+00\n",
            "  4.25565809e-01 -9.96647254e-02 -1.22040264e-01  5.41252255e-01\n",
            " -2.38744736e-01  5.37944913e-01  6.63011312e-01  1.60189152e+00\n",
            " -3.50460410e-01  3.37505996e-01  3.05112362e-01 -9.20792520e-02\n",
            " -1.74269482e-01 -1.51998997e-01  1.28660291e-01  5.93831837e-01\n",
            "  3.92475456e-01  9.93961275e-01 -6.14734106e-02  3.30365419e-01\n",
            "  1.10304320e+00 -2.95184407e-04  1.40686524e+00 -1.36477739e-01]\n"
          ],
          "name": "stdout"
        }
      ]
    },
    {
      "cell_type": "code",
      "metadata": {
        "colab": {
          "base_uri": "https://localhost:8080/"
        },
        "id": "bNKet84IYkKY",
        "outputId": "0d7fe5b4-f5dd-4257-b58e-9bc407a6a3c0"
      },
      "source": [
        "for i in range(10):\r\n",
        "  print(len(class_positions[i]))"
      ],
      "execution_count": 69,
      "outputs": [
        {
          "output_type": "stream",
          "text": [
            "6000\n",
            "6000\n",
            "6000\n",
            "6000\n",
            "6000\n",
            "6000\n",
            "6000\n",
            "6000\n",
            "6000\n",
            "6000\n"
          ],
          "name": "stdout"
        }
      ]
    }
  ]
}
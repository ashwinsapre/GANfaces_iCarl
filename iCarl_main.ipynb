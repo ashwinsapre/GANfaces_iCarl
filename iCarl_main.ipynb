{
  "nbformat": 4,
  "nbformat_minor": 0,
  "metadata": {
    "kernelspec": {
      "display_name": "Python 3",
      "language": "python",
      "name": "python3"
    },
    "language_info": {
      "codemirror_mode": {
        "name": "ipython",
        "version": 3
      },
      "file_extension": ".py",
      "mimetype": "text/x-python",
      "name": "python",
      "nbconvert_exporter": "python",
      "pygments_lexer": "ipython3",
      "version": "3.7.0"
    },
    "colab": {
      "name": "iCarl_main.ipynb",
      "provenance": [],
      "include_colab_link": true
    },
    "accelerator": "GPU"
  },
  "cells": [
    {
      "cell_type": "markdown",
      "metadata": {
        "id": "view-in-github",
        "colab_type": "text"
      },
      "source": [
        "<a href=\"https://colab.research.google.com/github/ashwinsapre/GANfaces_iCarl/blob/main/iCarl_main.ipynb\" target=\"_parent\"><img src=\"https://colab.research.google.com/assets/colab-badge.svg\" alt=\"Open In Colab\"/></a>"
      ]
    },
    {
      "cell_type": "code",
      "metadata": {
        "id": "Y73F_4X-AuAy"
      },
      "source": [
        "import numpy as np\n",
        "import tensorflow as tf\n",
        "import matplotlib.pyplot as plt\n",
        "import pandas as pd\n",
        "from tensorflow import keras\n",
        "import keras.layers as L\n",
        "from keras.datasets import fashion_mnist\n",
        "from keras.applications import DenseNet121\n",
        "from keras.applications import VGG16\n",
        "import matplotlib.pyplot as plt"
      ],
      "execution_count": 11,
      "outputs": []
    },
    {
      "cell_type": "markdown",
      "metadata": {
        "id": "VttqVxphAuA6"
      },
      "source": [
        " For multi-task learning, branching NN out\n",
        "- one branch predicts the class of FashionMNIST object (classification)\n",
        "- other branch predicts whether the object is a \"top\" or not (0/1 output)"
      ]
    },
    {
      "cell_type": "code",
      "metadata": {
        "id": "-8-eX21QAuA6"
      },
      "source": [
        "def create_model(n_classes, input_dim, cl_weight, b_weight, lr):\n",
        "    '''\n",
        "        Creating categorical classification model\n",
        "    '''\n",
        "    \n",
        "    inputs=L.Input((input_dim,input_dim,1))\n",
        "    \n",
        "    xc=L.Conv2D(64, kernel_size=3, padding='same', strides=1)(inputs)\n",
        "    xc=L.LeakyReLU(0.2)(xc)\n",
        "    xc=L.Conv2D(64, kernel_size=3, padding='same', strides=1)(xc)\n",
        "    xc=L.LeakyReLU(0.2)(xc)\n",
        "    xc=L.MaxPool2D(pool_size=2, strides=2)(xc)\n",
        "    \n",
        "    xc=L.Conv2D(32, kernel_size=3, padding='same', strides=1)(inputs)\n",
        "    xc=L.LeakyReLU(0.2)(xc)\n",
        "    xc=L.Conv2D(32, kernel_size=3, padding='same', strides=1)(xc)\n",
        "    xc=L.LeakyReLU(0.2)(xc)\n",
        "    xc=L.MaxPool2D(pool_size=2, strides=2)(xc)\n",
        "    \n",
        "    xc=L.Conv2D(16, kernel_size=3, padding='same', strides=1)(xc)\n",
        "    xc=L.LeakyReLU(0.2)(xc)\n",
        "    xc=L.Conv2D(16, kernel_size=3, padding='same', strides=1)(xc)\n",
        "    xc=L.LeakyReLU(0.2)(xc)\n",
        "    xc=L.MaxPool2D(pool_size=2, strides=2)(xc)\n",
        "    \n",
        "    xc=L.Flatten()(xc)\n",
        "    xc=L.Dense(n_classes)(xc)\n",
        "    outputc=L.Softmax(name='outputc')(xc)\n",
        "    \n",
        "    '''\n",
        "        Creating binary classification model (a top/not a top)\n",
        "    '''\n",
        "    \n",
        "    x=L.LeakyReLU(0.2)(inputs)\n",
        "    x=L.Conv2D(32, kernel_size=3, padding='same', strides=1)(x)\n",
        "    x=L.LeakyReLU(0.2)(x)\n",
        "    x=L.MaxPool2D(pool_size=2, strides=2)(x)\n",
        "    \n",
        "    x=L.Conv2D(16, kernel_size=3, padding='same', strides=1)(x)\n",
        "    x=L.LeakyReLU(0.2)(x)\n",
        "    x=L.Conv2D(16, kernel_size=3, padding='same', strides=1)(x)\n",
        "    x=L.LeakyReLU(0.2)(x)\n",
        "    x=L.MaxPool2D(pool_size=2, strides=2)(x)\n",
        "    \n",
        "    x=L.Flatten()(x)\n",
        "    outputb=L.Dense(1, activation='sigmoid', name='outputb')(x)\n",
        "    #outputb=L.Activation('sigmoid', name=\"outputb\")(x)\n",
        "\n",
        "    '''\n",
        "        Combining both models\n",
        "    '''\n",
        "    model=keras.Model(inputs=inputs, outputs=[outputc, outputb])\n",
        "    losses={'outputc':'categorical_crossentropy', 'outputb':'binary_crossentropy'}\n",
        "    loss_weights=[cl_weight, b_weight]\n",
        "    model.compile(optimizer=keras.optimizers.Adam(lr), \n",
        "                      loss=losses,\n",
        "                      loss_weights=loss_weights,\n",
        "                      metrics=['accuracy'])\n",
        "    \n",
        "    return model"
      ],
      "execution_count": 12,
      "outputs": []
    },
    {
      "cell_type": "code",
      "metadata": {
        "id": "h3b09_gxAuA7"
      },
      "source": [
        "def train_model(model, n_epochs:int, x_train, y_trainc, y_trainb, validation_split):\n",
        "    history=model.fit(x=x_train, \n",
        "                      y={'outputc':y_trainc, 'outputb': y_trainb}, \n",
        "                      epochs=n_epochs, \n",
        "                      validation_split=0.1,\n",
        "                      shuffle=True)\n",
        "    return model"
      ],
      "execution_count": 13,
      "outputs": []
    },
    {
      "cell_type": "code",
      "metadata": {
        "id": "zd5OfDiIAuA7"
      },
      "source": [
        "def calc_feature_vectors(model, images):\n",
        "    #extract feature vector from a layer of ALREADY-TRAINED model\n",
        "    #size of feature vector=784\n",
        "    feature_model=keras.Model(inputs=model.inputs, outputs=model.get_layer(\"flatten\").output)\n",
        "    feature_vectors=feature_model.predict(images)\n",
        "    norms=np.linalg.norm(feature_vectors, keepdims=True, axis=1)\n",
        "    feature_vectors=feature_vectors/norms\n",
        "    return feature_vectors"
      ],
      "execution_count": 26,
      "outputs": []
    },
    {
      "cell_type": "code",
      "metadata": {
        "id": "jymSn4mRtO5H"
      },
      "source": [
        "def create_exemplar_set(mem_size, n_classes, feature_vectors, labels, reconstruct=False):\r\n",
        "    per_class=mem_size/n_classes\r\n",
        "\r\n",
        "    class_vectors={}\r\n",
        "    mean_class_vectors={}\r\n",
        "    class_vectors_distances={}\r\n",
        "\r\n",
        "    for i in range(n_classes):\r\n",
        "      class_vectors[i]=[]\r\n",
        "      mean_class_vectors[i]=[]\r\n",
        "      class_vectors_distances[i]=[]\r\n",
        "    \r\n",
        "    for i in range(len(labels)):\r\n",
        "      class_vectors[labels[i]].append(feature_vectors[i])\r\n",
        "\r\n",
        "    for i in range(n_classes):\r\n",
        "      mean_class_vectors[i]=np.sum(class_vectors[i], axis=0)/len(class_vectors[i])\r\n",
        "    \r\n",
        "    #calculating distances from mean\r\n",
        "    for i in range(len(labels)):\r\n",
        "      class_vectors_distances[labels[i]].append(np.linalg.norm(mean_class_vectors[labels[i]] - feature_vectors[i]))\r\n",
        "\r\n",
        "    return None"
      ],
      "execution_count": 15,
      "outputs": []
    },
    {
      "cell_type": "code",
      "metadata": {
        "id": "r9Wu1QlhAuA7"
      },
      "source": [
        "def classify(X, mean_exemplar_sets):    \n",
        "    image_vector=calc_feature_vectors(X)\n",
        "    #exemplar set closest to X feature map is chosen\n",
        "    return None"
      ],
      "execution_count": 16,
      "outputs": []
    },
    {
      "cell_type": "code",
      "metadata": {
        "id": "4l48ckkJAuA8"
      },
      "source": [
        "def transform_outputs(y_train, y_test):\n",
        "    labeldict={}\n",
        "    labeldict[0]=1\n",
        "    labeldict[1]=0\n",
        "    labeldict[2]=1\n",
        "    labeldict[3]=1\n",
        "    labeldict[4]=1\n",
        "    labeldict[5]=0\n",
        "    labeldict[6]=1\n",
        "    labeldict[7]=0\n",
        "    labeldict[8]=0\n",
        "    labeldict[9]=0\n",
        "    \n",
        "    y_trainb=[]\n",
        "    y_testb=[]\n",
        "    y_trainc=keras.utils.to_categorical(y_train)\n",
        "    y_testc=keras.utils.to_categorical(y_test)\n",
        "    \n",
        "    for i in range(len(y_train)):\n",
        "        y_trainb.append(labeldict[y_train[i]])\n",
        "        \n",
        "    for i in range(len(y_test)):\n",
        "        y_testb.append(labeldict[y_test[i]])\n",
        "    \n",
        "    return y_trainc, y_testc, np.asarray(y_trainb), np.asarray(y_testb)"
      ],
      "execution_count": 17,
      "outputs": []
    },
    {
      "cell_type": "code",
      "metadata": {
        "colab": {
          "base_uri": "https://localhost:8080/"
        },
        "id": "HwrcNzQZAuA8",
        "outputId": "a17de462-ca79-4470-c645-ad6434430efa"
      },
      "source": [
        "\n",
        "(x_train, y_train), (x_test, y_test)=tf.keras.datasets.fashion_mnist.load_data()\n",
        "x_train=x_train.reshape((x_train.shape[0], 28,28,1))\n",
        "x_test=x_test.reshape((x_test.shape[0],28,28,1))\n",
        "y_trainc, y_testc, y_trainb, y_testb=transform_outputs(y_train, y_test)\n",
        "x_train=x_train/255.0\n",
        "x_test=x_test/255.0\n",
        "\n",
        "#np.savetxt(\"ytrain_transformed.csv\", y_train, delimiter=',')\n",
        "#np.savetxt(\"ytest_transformed.csv\", y_test, delimiter=',')\n",
        "    \n",
        "#y_train=np.loadtxt(open(\"ytrain_transformed.csv\", \"rb\"), delimiter=',')\n",
        "#y_test=np.loadtxt(open(\"ytest_transformed.csv\", \"rb\"), delimiter=',')\n",
        "    \n",
        "model=create_model(n_classes=10, input_dim=28, cl_weight=1.0, b_weight=1.5, lr=0.0005)\n",
        "    \n",
        "train_model(model, 50, x_train, y_trainc, y_trainb, validation_split=0.1)\n",
        "model.save(\"trainedmodel.h5\")\n",
        "#-----------------------------------------------------------------------#"
      ],
      "execution_count": 18,
      "outputs": [
        {
          "output_type": "stream",
          "text": [
            "Epoch 1/50\n",
            "1688/1688 [==============================] - 32s 15ms/step - loss: 0.9918 - outputc_loss: 0.7491 - outputb_loss: 0.1618 - outputc_accuracy: 0.7280 - outputb_accuracy: 0.9427 - val_loss: 0.4422 - val_outputc_loss: 0.3754 - val_outputb_loss: 0.0445 - val_outputc_accuracy: 0.8613 - val_outputb_accuracy: 0.9842\n",
            "Epoch 2/50\n",
            "1688/1688 [==============================] - 24s 14ms/step - loss: 0.4286 - outputc_loss: 0.3627 - outputb_loss: 0.0439 - outputc_accuracy: 0.8678 - outputb_accuracy: 0.9868 - val_loss: 0.3689 - val_outputc_loss: 0.3167 - val_outputb_loss: 0.0348 - val_outputc_accuracy: 0.8850 - val_outputb_accuracy: 0.9890\n",
            "Epoch 3/50\n",
            "1688/1688 [==============================] - 24s 14ms/step - loss: 0.3581 - outputc_loss: 0.3047 - outputb_loss: 0.0356 - outputc_accuracy: 0.8891 - outputb_accuracy: 0.9895 - val_loss: 0.3235 - val_outputc_loss: 0.2806 - val_outputb_loss: 0.0286 - val_outputc_accuracy: 0.9008 - val_outputb_accuracy: 0.9897\n",
            "Epoch 4/50\n",
            "1688/1688 [==============================] - 24s 14ms/step - loss: 0.3213 - outputc_loss: 0.2733 - outputb_loss: 0.0320 - outputc_accuracy: 0.9020 - outputb_accuracy: 0.9906 - val_loss: 0.3074 - val_outputc_loss: 0.2683 - val_outputb_loss: 0.0260 - val_outputc_accuracy: 0.9038 - val_outputb_accuracy: 0.9910\n",
            "Epoch 5/50\n",
            "1688/1688 [==============================] - 24s 14ms/step - loss: 0.2840 - outputc_loss: 0.2446 - outputb_loss: 0.0263 - outputc_accuracy: 0.9109 - outputb_accuracy: 0.9922 - val_loss: 0.2942 - val_outputc_loss: 0.2549 - val_outputb_loss: 0.0262 - val_outputc_accuracy: 0.9102 - val_outputb_accuracy: 0.9903\n",
            "Epoch 6/50\n",
            "1688/1688 [==============================] - 24s 14ms/step - loss: 0.2637 - outputc_loss: 0.2302 - outputb_loss: 0.0223 - outputc_accuracy: 0.9177 - outputb_accuracy: 0.9932 - val_loss: 0.2958 - val_outputc_loss: 0.2469 - val_outputb_loss: 0.0326 - val_outputc_accuracy: 0.9080 - val_outputb_accuracy: 0.9908\n",
            "Epoch 7/50\n",
            "1688/1688 [==============================] - 24s 14ms/step - loss: 0.2517 - outputc_loss: 0.2214 - outputb_loss: 0.0202 - outputc_accuracy: 0.9207 - outputb_accuracy: 0.9941 - val_loss: 0.2717 - val_outputc_loss: 0.2400 - val_outputb_loss: 0.0211 - val_outputc_accuracy: 0.9122 - val_outputb_accuracy: 0.9922\n",
            "Epoch 8/50\n",
            "1688/1688 [==============================] - 24s 14ms/step - loss: 0.2376 - outputc_loss: 0.2086 - outputb_loss: 0.0193 - outputc_accuracy: 0.9251 - outputb_accuracy: 0.9942 - val_loss: 0.2686 - val_outputc_loss: 0.2425 - val_outputb_loss: 0.0174 - val_outputc_accuracy: 0.9125 - val_outputb_accuracy: 0.9943\n",
            "Epoch 9/50\n",
            "1688/1688 [==============================] - 24s 14ms/step - loss: 0.2247 - outputc_loss: 0.2005 - outputb_loss: 0.0162 - outputc_accuracy: 0.9288 - outputb_accuracy: 0.9948 - val_loss: 0.2623 - val_outputc_loss: 0.2324 - val_outputb_loss: 0.0200 - val_outputc_accuracy: 0.9145 - val_outputb_accuracy: 0.9927\n",
            "Epoch 10/50\n",
            "1688/1688 [==============================] - 24s 14ms/step - loss: 0.2144 - outputc_loss: 0.1921 - outputb_loss: 0.0148 - outputc_accuracy: 0.9314 - outputb_accuracy: 0.9952 - val_loss: 0.2651 - val_outputc_loss: 0.2393 - val_outputb_loss: 0.0173 - val_outputc_accuracy: 0.9123 - val_outputb_accuracy: 0.9938\n",
            "Epoch 11/50\n",
            "1688/1688 [==============================] - 24s 14ms/step - loss: 0.2048 - outputc_loss: 0.1839 - outputb_loss: 0.0140 - outputc_accuracy: 0.9331 - outputb_accuracy: 0.9956 - val_loss: 0.2705 - val_outputc_loss: 0.2369 - val_outputb_loss: 0.0224 - val_outputc_accuracy: 0.9158 - val_outputb_accuracy: 0.9930\n",
            "Epoch 12/50\n",
            "1688/1688 [==============================] - 24s 14ms/step - loss: 0.1920 - outputc_loss: 0.1736 - outputb_loss: 0.0122 - outputc_accuracy: 0.9374 - outputb_accuracy: 0.9956 - val_loss: 0.2813 - val_outputc_loss: 0.2480 - val_outputb_loss: 0.0222 - val_outputc_accuracy: 0.9100 - val_outputb_accuracy: 0.9923\n",
            "Epoch 13/50\n",
            "1688/1688 [==============================] - 24s 14ms/step - loss: 0.1896 - outputc_loss: 0.1716 - outputb_loss: 0.0120 - outputc_accuracy: 0.9385 - outputb_accuracy: 0.9957 - val_loss: 0.2581 - val_outputc_loss: 0.2334 - val_outputb_loss: 0.0165 - val_outputc_accuracy: 0.9135 - val_outputb_accuracy: 0.9945\n",
            "Epoch 14/50\n",
            "1688/1688 [==============================] - 24s 14ms/step - loss: 0.1793 - outputc_loss: 0.1634 - outputb_loss: 0.0106 - outputc_accuracy: 0.9419 - outputb_accuracy: 0.9963 - val_loss: 0.2570 - val_outputc_loss: 0.2327 - val_outputb_loss: 0.0162 - val_outputc_accuracy: 0.9155 - val_outputb_accuracy: 0.9943\n",
            "Epoch 15/50\n",
            "1688/1688 [==============================] - 24s 14ms/step - loss: 0.1749 - outputc_loss: 0.1613 - outputb_loss: 0.0090 - outputc_accuracy: 0.9423 - outputb_accuracy: 0.9968 - val_loss: 0.2509 - val_outputc_loss: 0.2283 - val_outputb_loss: 0.0151 - val_outputc_accuracy: 0.9175 - val_outputb_accuracy: 0.9950\n",
            "Epoch 16/50\n",
            "1688/1688 [==============================] - 24s 14ms/step - loss: 0.1648 - outputc_loss: 0.1514 - outputb_loss: 0.0089 - outputc_accuracy: 0.9461 - outputb_accuracy: 0.9971 - val_loss: 0.2734 - val_outputc_loss: 0.2457 - val_outputb_loss: 0.0185 - val_outputc_accuracy: 0.9140 - val_outputb_accuracy: 0.9937\n",
            "Epoch 17/50\n",
            "1688/1688 [==============================] - 24s 14ms/step - loss: 0.1625 - outputc_loss: 0.1513 - outputb_loss: 0.0075 - outputc_accuracy: 0.9458 - outputb_accuracy: 0.9974 - val_loss: 0.2684 - val_outputc_loss: 0.2414 - val_outputb_loss: 0.0180 - val_outputc_accuracy: 0.9158 - val_outputb_accuracy: 0.9947\n",
            "Epoch 18/50\n",
            "1688/1688 [==============================] - 24s 14ms/step - loss: 0.1564 - outputc_loss: 0.1447 - outputb_loss: 0.0078 - outputc_accuracy: 0.9475 - outputb_accuracy: 0.9973 - val_loss: 0.2573 - val_outputc_loss: 0.2282 - val_outputb_loss: 0.0194 - val_outputc_accuracy: 0.9162 - val_outputb_accuracy: 0.9940\n",
            "Epoch 19/50\n",
            "1688/1688 [==============================] - 24s 14ms/step - loss: 0.1452 - outputc_loss: 0.1355 - outputb_loss: 0.0065 - outputc_accuracy: 0.9516 - outputb_accuracy: 0.9980 - val_loss: 0.2561 - val_outputc_loss: 0.2338 - val_outputb_loss: 0.0148 - val_outputc_accuracy: 0.9175 - val_outputb_accuracy: 0.9958\n",
            "Epoch 20/50\n",
            "1688/1688 [==============================] - 24s 14ms/step - loss: 0.1402 - outputc_loss: 0.1314 - outputb_loss: 0.0059 - outputc_accuracy: 0.9524 - outputb_accuracy: 0.9981 - val_loss: 0.2676 - val_outputc_loss: 0.2455 - val_outputb_loss: 0.0147 - val_outputc_accuracy: 0.9132 - val_outputb_accuracy: 0.9955\n",
            "Epoch 21/50\n",
            "1688/1688 [==============================] - 24s 14ms/step - loss: 0.1369 - outputc_loss: 0.1297 - outputb_loss: 0.0048 - outputc_accuracy: 0.9525 - outputb_accuracy: 0.9984 - val_loss: 0.2770 - val_outputc_loss: 0.2517 - val_outputb_loss: 0.0169 - val_outputc_accuracy: 0.9110 - val_outputb_accuracy: 0.9938\n",
            "Epoch 22/50\n",
            "1688/1688 [==============================] - 24s 14ms/step - loss: 0.1333 - outputc_loss: 0.1256 - outputb_loss: 0.0051 - outputc_accuracy: 0.9553 - outputb_accuracy: 0.9987 - val_loss: 0.2802 - val_outputc_loss: 0.2550 - val_outputb_loss: 0.0168 - val_outputc_accuracy: 0.9125 - val_outputb_accuracy: 0.9950\n",
            "Epoch 23/50\n",
            "1688/1688 [==============================] - 24s 14ms/step - loss: 0.1296 - outputc_loss: 0.1226 - outputb_loss: 0.0046 - outputc_accuracy: 0.9571 - outputb_accuracy: 0.9986 - val_loss: 0.2769 - val_outputc_loss: 0.2532 - val_outputb_loss: 0.0158 - val_outputc_accuracy: 0.9150 - val_outputb_accuracy: 0.9948\n",
            "Epoch 24/50\n",
            "1688/1688 [==============================] - 24s 14ms/step - loss: 0.1240 - outputc_loss: 0.1179 - outputb_loss: 0.0041 - outputc_accuracy: 0.9573 - outputb_accuracy: 0.9987 - val_loss: 0.2815 - val_outputc_loss: 0.2552 - val_outputb_loss: 0.0176 - val_outputc_accuracy: 0.9133 - val_outputb_accuracy: 0.9950\n",
            "Epoch 25/50\n",
            "1688/1688 [==============================] - 24s 14ms/step - loss: 0.1256 - outputc_loss: 0.1192 - outputb_loss: 0.0043 - outputc_accuracy: 0.9574 - outputb_accuracy: 0.9984 - val_loss: 0.2870 - val_outputc_loss: 0.2588 - val_outputb_loss: 0.0188 - val_outputc_accuracy: 0.9165 - val_outputb_accuracy: 0.9948\n",
            "Epoch 26/50\n",
            "1688/1688 [==============================] - 24s 14ms/step - loss: 0.1177 - outputc_loss: 0.1126 - outputb_loss: 0.0034 - outputc_accuracy: 0.9612 - outputb_accuracy: 0.9989 - val_loss: 0.2841 - val_outputc_loss: 0.2546 - val_outputb_loss: 0.0197 - val_outputc_accuracy: 0.9143 - val_outputb_accuracy: 0.9947\n",
            "Epoch 27/50\n",
            "1688/1688 [==============================] - 24s 14ms/step - loss: 0.1101 - outputc_loss: 0.1059 - outputb_loss: 0.0028 - outputc_accuracy: 0.9620 - outputb_accuracy: 0.9992 - val_loss: 0.2840 - val_outputc_loss: 0.2561 - val_outputb_loss: 0.0186 - val_outputc_accuracy: 0.9170 - val_outputb_accuracy: 0.9963\n",
            "Epoch 28/50\n",
            "1688/1688 [==============================] - 24s 14ms/step - loss: 0.1121 - outputc_loss: 0.1075 - outputb_loss: 0.0031 - outputc_accuracy: 0.9604 - outputb_accuracy: 0.9991 - val_loss: 0.2849 - val_outputc_loss: 0.2573 - val_outputb_loss: 0.0184 - val_outputc_accuracy: 0.9187 - val_outputb_accuracy: 0.9957\n",
            "Epoch 29/50\n",
            "1688/1688 [==============================] - 24s 14ms/step - loss: 0.1056 - outputc_loss: 0.1011 - outputb_loss: 0.0030 - outputc_accuracy: 0.9624 - outputb_accuracy: 0.9989 - val_loss: 0.3108 - val_outputc_loss: 0.2802 - val_outputb_loss: 0.0204 - val_outputc_accuracy: 0.9153 - val_outputb_accuracy: 0.9950\n",
            "Epoch 30/50\n",
            "1688/1688 [==============================] - 24s 14ms/step - loss: 0.1048 - outputc_loss: 0.1011 - outputb_loss: 0.0025 - outputc_accuracy: 0.9641 - outputb_accuracy: 0.9993 - val_loss: 0.3288 - val_outputc_loss: 0.3023 - val_outputb_loss: 0.0176 - val_outputc_accuracy: 0.9128 - val_outputb_accuracy: 0.9948\n",
            "Epoch 31/50\n",
            "1688/1688 [==============================] - 24s 14ms/step - loss: 0.1012 - outputc_loss: 0.0978 - outputb_loss: 0.0023 - outputc_accuracy: 0.9632 - outputb_accuracy: 0.9993 - val_loss: 0.3085 - val_outputc_loss: 0.2785 - val_outputb_loss: 0.0200 - val_outputc_accuracy: 0.9137 - val_outputb_accuracy: 0.9960\n",
            "Epoch 32/50\n",
            "1688/1688 [==============================] - 24s 14ms/step - loss: 0.1011 - outputc_loss: 0.0976 - outputb_loss: 0.0024 - outputc_accuracy: 0.9644 - outputb_accuracy: 0.9993 - val_loss: 0.3217 - val_outputc_loss: 0.2862 - val_outputb_loss: 0.0237 - val_outputc_accuracy: 0.9172 - val_outputb_accuracy: 0.9948\n",
            "Epoch 33/50\n",
            "1688/1688 [==============================] - 24s 14ms/step - loss: 0.0957 - outputc_loss: 0.0921 - outputb_loss: 0.0023 - outputc_accuracy: 0.9658 - outputb_accuracy: 0.9992 - val_loss: 0.3216 - val_outputc_loss: 0.2861 - val_outputb_loss: 0.0237 - val_outputc_accuracy: 0.9117 - val_outputb_accuracy: 0.9938\n",
            "Epoch 34/50\n",
            "1688/1688 [==============================] - 24s 14ms/step - loss: 0.0923 - outputc_loss: 0.0901 - outputb_loss: 0.0015 - outputc_accuracy: 0.9668 - outputb_accuracy: 0.9995 - val_loss: 0.3234 - val_outputc_loss: 0.2909 - val_outputb_loss: 0.0217 - val_outputc_accuracy: 0.9115 - val_outputb_accuracy: 0.9945\n",
            "Epoch 35/50\n",
            "1688/1688 [==============================] - 24s 14ms/step - loss: 0.0878 - outputc_loss: 0.0854 - outputb_loss: 0.0016 - outputc_accuracy: 0.9691 - outputb_accuracy: 0.9996 - val_loss: 0.3385 - val_outputc_loss: 0.3016 - val_outputb_loss: 0.0246 - val_outputc_accuracy: 0.9145 - val_outputb_accuracy: 0.9948\n",
            "Epoch 36/50\n",
            "1688/1688 [==============================] - 24s 14ms/step - loss: 0.0878 - outputc_loss: 0.0846 - outputb_loss: 0.0021 - outputc_accuracy: 0.9696 - outputb_accuracy: 0.9993 - val_loss: 0.3662 - val_outputc_loss: 0.3159 - val_outputb_loss: 0.0335 - val_outputc_accuracy: 0.9137 - val_outputb_accuracy: 0.9903\n",
            "Epoch 37/50\n",
            "1688/1688 [==============================] - 24s 14ms/step - loss: 0.0830 - outputc_loss: 0.0803 - outputb_loss: 0.0018 - outputc_accuracy: 0.9699 - outputb_accuracy: 0.9993 - val_loss: 0.3531 - val_outputc_loss: 0.3144 - val_outputb_loss: 0.0258 - val_outputc_accuracy: 0.9118 - val_outputb_accuracy: 0.9940\n",
            "Epoch 38/50\n",
            "1688/1688 [==============================] - 24s 14ms/step - loss: 0.0804 - outputc_loss: 0.0790 - outputb_loss: 8.9425e-04 - outputc_accuracy: 0.9712 - outputb_accuracy: 0.9998 - val_loss: 0.3563 - val_outputc_loss: 0.3190 - val_outputb_loss: 0.0249 - val_outputc_accuracy: 0.9142 - val_outputb_accuracy: 0.9947\n",
            "Epoch 39/50\n",
            "1688/1688 [==============================] - 24s 14ms/step - loss: 0.0810 - outputc_loss: 0.0786 - outputb_loss: 0.0016 - outputc_accuracy: 0.9710 - outputb_accuracy: 0.9992 - val_loss: 0.3530 - val_outputc_loss: 0.3197 - val_outputb_loss: 0.0222 - val_outputc_accuracy: 0.9112 - val_outputb_accuracy: 0.9950\n",
            "Epoch 40/50\n",
            "1688/1688 [==============================] - 24s 14ms/step - loss: 0.0767 - outputc_loss: 0.0748 - outputb_loss: 0.0013 - outputc_accuracy: 0.9733 - outputb_accuracy: 0.9995 - val_loss: 0.3951 - val_outputc_loss: 0.3532 - val_outputb_loss: 0.0279 - val_outputc_accuracy: 0.9070 - val_outputb_accuracy: 0.9950\n",
            "Epoch 41/50\n",
            "1688/1688 [==============================] - 24s 14ms/step - loss: 0.0781 - outputc_loss: 0.0758 - outputb_loss: 0.0016 - outputc_accuracy: 0.9718 - outputb_accuracy: 0.9994 - val_loss: 0.3590 - val_outputc_loss: 0.3236 - val_outputb_loss: 0.0236 - val_outputc_accuracy: 0.9148 - val_outputb_accuracy: 0.9957\n",
            "Epoch 42/50\n",
            "1688/1688 [==============================] - 24s 14ms/step - loss: 0.0714 - outputc_loss: 0.0703 - outputb_loss: 7.5660e-04 - outputc_accuracy: 0.9732 - outputb_accuracy: 0.9999 - val_loss: 0.3894 - val_outputc_loss: 0.3478 - val_outputb_loss: 0.0277 - val_outputc_accuracy: 0.9120 - val_outputb_accuracy: 0.9945\n",
            "Epoch 43/50\n",
            "1688/1688 [==============================] - 24s 14ms/step - loss: 0.0725 - outputc_loss: 0.0715 - outputb_loss: 7.0160e-04 - outputc_accuracy: 0.9735 - outputb_accuracy: 0.9999 - val_loss: 0.3857 - val_outputc_loss: 0.3427 - val_outputb_loss: 0.0287 - val_outputc_accuracy: 0.9153 - val_outputb_accuracy: 0.9952\n",
            "Epoch 44/50\n",
            "1688/1688 [==============================] - 24s 14ms/step - loss: 0.0688 - outputc_loss: 0.0670 - outputb_loss: 0.0012 - outputc_accuracy: 0.9753 - outputb_accuracy: 0.9994 - val_loss: 0.3675 - val_outputc_loss: 0.3285 - val_outputb_loss: 0.0260 - val_outputc_accuracy: 0.9167 - val_outputb_accuracy: 0.9950\n",
            "Epoch 45/50\n",
            "1688/1688 [==============================] - 24s 14ms/step - loss: 0.0642 - outputc_loss: 0.0635 - outputb_loss: 4.5379e-04 - outputc_accuracy: 0.9772 - outputb_accuracy: 0.9999 - val_loss: 0.3843 - val_outputc_loss: 0.3346 - val_outputb_loss: 0.0331 - val_outputc_accuracy: 0.9113 - val_outputb_accuracy: 0.9947\n",
            "Epoch 46/50\n",
            "1688/1688 [==============================] - 24s 14ms/step - loss: 0.0667 - outputc_loss: 0.0644 - outputb_loss: 0.0015 - outputc_accuracy: 0.9762 - outputb_accuracy: 0.9995 - val_loss: 0.4078 - val_outputc_loss: 0.3716 - val_outputb_loss: 0.0241 - val_outputc_accuracy: 0.9137 - val_outputb_accuracy: 0.9948\n",
            "Epoch 47/50\n",
            "1688/1688 [==============================] - 24s 14ms/step - loss: 0.0644 - outputc_loss: 0.0631 - outputb_loss: 8.8573e-04 - outputc_accuracy: 0.9762 - outputb_accuracy: 0.9996 - val_loss: 0.3943 - val_outputc_loss: 0.3586 - val_outputb_loss: 0.0238 - val_outputc_accuracy: 0.9112 - val_outputb_accuracy: 0.9960\n",
            "Epoch 48/50\n",
            "1688/1688 [==============================] - 24s 14ms/step - loss: 0.0618 - outputc_loss: 0.0614 - outputb_loss: 2.9290e-04 - outputc_accuracy: 0.9776 - outputb_accuracy: 1.0000 - val_loss: 0.4213 - val_outputc_loss: 0.3770 - val_outputb_loss: 0.0295 - val_outputc_accuracy: 0.9140 - val_outputb_accuracy: 0.9945\n",
            "Epoch 49/50\n",
            "1688/1688 [==============================] - 24s 14ms/step - loss: 0.0594 - outputc_loss: 0.0579 - outputb_loss: 9.6162e-04 - outputc_accuracy: 0.9779 - outputb_accuracy: 0.9998 - val_loss: 0.4304 - val_outputc_loss: 0.3910 - val_outputb_loss: 0.0263 - val_outputc_accuracy: 0.9118 - val_outputb_accuracy: 0.9950\n",
            "Epoch 50/50\n",
            "1688/1688 [==============================] - 24s 14ms/step - loss: 0.0613 - outputc_loss: 0.0596 - outputb_loss: 0.0011 - outputc_accuracy: 0.9780 - outputb_accuracy: 0.9997 - val_loss: 0.4500 - val_outputc_loss: 0.4076 - val_outputb_loss: 0.0283 - val_outputc_accuracy: 0.9123 - val_outputb_accuracy: 0.9953\n"
          ],
          "name": "stdout"
        }
      ]
    },
    {
      "cell_type": "code",
      "metadata": {
        "colab": {
          "base_uri": "https://localhost:8080/"
        },
        "id": "kNyXSMxAOvJN",
        "outputId": "6b661155-d837-4f15-a1f0-dbbbdf8a4d9d"
      },
      "source": [
        "from google.colab import drive\r\n",
        "drive.mount(\"/content/gdrive\")"
      ],
      "execution_count": 19,
      "outputs": [
        {
          "output_type": "stream",
          "text": [
            "Drive already mounted at /content/gdrive; to attempt to forcibly remount, call drive.mount(\"/content/gdrive\", force_remount=True).\n"
          ],
          "name": "stdout"
        }
      ]
    },
    {
      "cell_type": "code",
      "metadata": {
        "id": "o5ZVQ9c4A8nj",
        "colab": {
          "base_uri": "https://localhost:8080/"
        },
        "outputId": "a18872fa-2643-428f-b4ce-962a0e501d00"
      },
      "source": [
        "model.save(\"trainedmodel\", \"/content/gdrive/MyDrive/iCarlModel\")"
      ],
      "execution_count": 20,
      "outputs": [
        {
          "output_type": "stream",
          "text": [
            "INFO:tensorflow:Assets written to: trainedmodel/assets\n"
          ],
          "name": "stdout"
        }
      ]
    },
    {
      "cell_type": "code",
      "metadata": {
        "id": "txp8fFNgFzds"
      },
      "source": [
        "#model=keras.models.load_model(\"trainedmodel\")"
      ],
      "execution_count": 21,
      "outputs": []
    },
    {
      "cell_type": "code",
      "metadata": {
        "id": "IxmS7wln2gKO"
      },
      "source": [
        "feature_model=keras.Model(inputs=model.inputs, outputs=model.get_layer(\"flatten\").output)\r\n",
        "feature_vectors=feature_model.predict(x_test)\r\n",
        "norms=np.linalg.norm(feature_vectors, keepdims=True, axis=1)\r\n",
        "feature_vectors=feature_vectors/norms"
      ],
      "execution_count": 27,
      "outputs": []
    },
    {
      "cell_type": "code",
      "metadata": {
        "colab": {
          "base_uri": "https://localhost:8080/"
        },
        "id": "tpDZ9X6UFnVh",
        "outputId": "1e60cf3e-1b3f-46ed-cef9-ac0e39ac811f"
      },
      "source": [
        "class_vectors={}\r\n",
        "mean_class_vectors={}\r\n",
        "class_vectors_distances={}\r\n",
        "\r\n",
        "for i in range(10):\r\n",
        "  class_vectors[i]=[]\r\n",
        "  mean_class_vectors[i]=[]\r\n",
        "  class_vectors_distances[i]=[]\r\n",
        "    \r\n",
        "for i in range(len(y_test)):\r\n",
        "  class_vectors[y_test[i]].append(feature_vectors[i])\r\n",
        "\r\n",
        "for i in range(10):\r\n",
        "  mean_class_vectors[i]=np.sum(class_vectors[i], axis=0)/len(class_vectors[i])\r\n",
        "    \r\n",
        "#calculating distances from mean\r\n",
        "for i in range(len(y_test)):\r\n",
        "  class_vectors_distances[y_test[i]].append(np.linalg.norm(mean_class_vectors[y_test[i]] - feature_vectors[i]))\r\n",
        "\r\n",
        "print(max(class_vectors_distances[0]))"
      ],
      "execution_count": 36,
      "outputs": [
        {
          "output_type": "stream",
          "text": [
            "1.1190995\n"
          ],
          "name": "stdout"
        }
      ]
    }
  ]
}